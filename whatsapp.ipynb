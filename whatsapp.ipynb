{
  "nbformat": 4,
  "nbformat_minor": 0,
  "metadata": {
    "colab": {
      "name": "whatsapp.ipynb",
      "provenance": [],
      "authorship_tag": "ABX9TyPnpgZiw0YR34iaXVxA7US6",
      "include_colab_link": true
    },
    "kernelspec": {
      "name": "python3",
      "display_name": "Python 3"
    }
  },
  "cells": [
    {
      "cell_type": "markdown",
      "metadata": {
        "id": "view-in-github",
        "colab_type": "text"
      },
      "source": [
        "<a href=\"https://colab.research.google.com/github/danicrg/whatsapp-analyser/blob/master/whatsapp.ipynb\" target=\"_parent\"><img src=\"https://colab.research.google.com/assets/colab-badge.svg\" alt=\"Open In Colab\"/></a>"
      ]
    },
    {
      "cell_type": "markdown",
      "metadata": {
        "id": "WHTQcO8W1qay",
        "colab_type": "text"
      },
      "source": [
        "# Whatsapp Chat Analyser"
      ]
    },
    {
      "cell_type": "code",
      "metadata": {
        "id": "Wwh1Hovhyhfg",
        "colab_type": "code",
        "colab": {}
      },
      "source": [
        "!pip install emoji"
      ],
      "execution_count": null,
      "outputs": []
    },
    {
      "cell_type": "code",
      "metadata": {
        "id": "J9yrr5M0xgas",
        "colab_type": "code",
        "colab": {}
      },
      "source": [
        "import re\n",
        "import regex\n",
        "import pandas as pd\n",
        "import numpy as np\n",
        "import emoji"
      ],
      "execution_count": null,
      "outputs": []
    },
    {
      "cell_type": "markdown",
      "metadata": {
        "id": "mjS4BZEu10rp",
        "colab_type": "text"
      },
      "source": [
        "## Parsing The Chat"
      ]
    },
    {
      "cell_type": "code",
      "metadata": {
        "id": "k47IzIOOtgAa",
        "colab_type": "code",
        "colab": {}
      },
      "source": [
        "f = open('chat.txt', 'r')"
      ],
      "execution_count": null,
      "outputs": []
    },
    {
      "cell_type": "code",
      "metadata": {
        "id": "2unICu-tu2RA",
        "colab_type": "code",
        "colab": {}
      },
      "source": [
        "line = f.readline().strip()"
      ],
      "execution_count": null,
      "outputs": []
    },
    {
      "cell_type": "code",
      "metadata": {
        "id": "7VsGhP0ZwT3R",
        "colab_type": "code",
        "colab": {}
      },
      "source": [
        "def startsWithDateAndTimeAndroid(s):\n",
        "    pattern = '^([0-9]+)(\\/)([0-9]+)(\\/)([0-9]+), ([0-9]+):([0-9]+)[ ]?(AM|PM|am|pm)? -' \n",
        "    result = re.match(pattern, s)\n",
        "    if result:\n",
        "        return True\n",
        "    return False\n",
        "\n",
        "def startsWithDateAndTimeios(s):\n",
        "    pattern = '^\\[([0-9]+)([\\/-])([0-9]+)([\\/-])([0-9]+)[,]? ([0-9]+):([0-9][0-9]):([0-9][0-9])?[ ]?(AM|PM|am|pm)?\\]' \n",
        "    result = re.match(pattern, s)\n",
        "    if result:\n",
        "        return True\n",
        "    return False"
      ],
      "execution_count": null,
      "outputs": []
    },
    {
      "cell_type": "code",
      "metadata": {
        "id": "EEjoX_CFwUdA",
        "colab_type": "code",
        "colab": {}
      },
      "source": [
        "def findAuthor(s):\n",
        "  s=s.split(\":\")\n",
        "  if len(s)==2:\n",
        "    return True\n",
        "  else:\n",
        "    return False"
      ],
      "execution_count": null,
      "outputs": []
    },
    {
      "cell_type": "code",
      "metadata": {
        "id": "m0aARQacxcsv",
        "colab_type": "code",
        "colab": {}
      },
      "source": [
        "def getDataPointAndroid(line):   \n",
        "    splitLine = line.split(' - ') \n",
        "    dateTime = splitLine[0]\n",
        "    date, time = dateTime.split(', ') \n",
        "    message = ' '.join(splitLine[1:])\n",
        "    if findAuthor(message): \n",
        "        splitMessage = message.split(':') \n",
        "        author = splitMessage[0] \n",
        "        message = ' '.join(splitMessage[1:])\n",
        "    else:\n",
        "        author = None\n",
        "    return date, time, author, message\n",
        "\n",
        "def getDataPointios(line):\n",
        "\tsplitLine = line.split('] ')\n",
        "\tdateTime = splitLine[0]\n",
        "\tif ',' in dateTime:\n",
        "\t\tdate, time = dateTime.split(',')\n",
        "\telse:\n",
        "\t\tdate, time = dateTime.split(' ')\n",
        "\tmessage = ' '.join(splitLine[1:])\n",
        "\tif findAuthor(message):\n",
        "\t\tsplitMessage = message.split(':')\n",
        "\t\tauthor = splitMessage[0]\n",
        "\t\tmessage = ' '.join(splitMessage[1:])\n",
        "\telse:\n",
        "\t\tauthor = None\n",
        "\tif time[5]==\":\":\n",
        "\t\ttime = time[:5]+time[-3:]\n",
        "\telse:\n",
        "\t\tif 'AM' in time or 'PM' in time:\n",
        "\t\t\ttime = time[:6]+time[-3:]\n",
        "\t\telse:\n",
        "\t\t\ttime = time[:6]\n",
        "\treturn date, time, author, message"
      ],
      "execution_count": null,
      "outputs": []
    },
    {
      "cell_type": "code",
      "metadata": {
        "id": "4wvDYfORxrYc",
        "colab_type": "code",
        "colab": {}
      },
      "source": [
        "def dateconv(date):\n",
        "  year=''\n",
        "  if '-' in date:\n",
        "    year = date.split('-')[2]\n",
        "    if len(year) == 4:\n",
        "      return datetime.datetime.strptime(date, \"[%d-%m-%Y\").strftime(\"%Y-%m-%d\")\n",
        "    elif len(year) ==2:\n",
        "      return datetime.datetime.strptime(date, \"[%d-%m-%y\").strftime(\"%Y-%m-%d\")\n",
        "  elif '/' in date:\n",
        "    year = date.split('/')[2]\n",
        "    if len(year) == 4:\n",
        "      return datetime.datetime.strptime(date, \"[%d/%m/%Y\").strftime(\"%Y-%m-%d\")\n",
        "    if len(year) ==2:\n",
        "      return datetime.datetime.strptime(date, \"[%d/%m/%y\").strftime(\"%Y-%m-%d\")"
      ],
      "execution_count": null,
      "outputs": []
    },
    {
      "cell_type": "code",
      "metadata": {
        "id": "ynC9O-thx2Pr",
        "colab_type": "code",
        "colab": {}
      },
      "source": [
        "def split_count(text):\n",
        "\n",
        "    emoji_list = []\n",
        "    data = regex.findall(r'\\X', text)\n",
        "    for word in data:\n",
        "        if any(char in emoji.UNICODE_EMOJI for char in word):\n",
        "            emoji_list.append(word)\n",
        "\n",
        "    return emoji_list"
      ],
      "execution_count": null,
      "outputs": []
    },
    {
      "cell_type": "code",
      "metadata": {
        "id": "NN4_ARzkx5IZ",
        "colab_type": "code",
        "colab": {}
      },
      "source": [
        "parsedData = []\n",
        "conversationPath = 'chat.txt' \n",
        "with open(conversationPath, encoding=\"utf-8\") as fp:\n",
        "    device=''\n",
        "    first=fp.readline()\n",
        "    if '[' in first:\n",
        "      device='ios'\n",
        "    else:\n",
        "      device=\"android\"\n",
        "    fp.readline() \n",
        "    messageBuffer = [] \n",
        "    date, time, author = None, None, None\n",
        "    while True:\n",
        "        line = fp.readline() \n",
        "        if not line: \n",
        "            break\n",
        "        if device==\"ios\":\n",
        "          line = line.strip()\n",
        "          if startsWithDateAndTimeios(line):\n",
        "            if len(messageBuffer) > 0:\n",
        "              parsedData.append([date, time, author, ' '.join(messageBuffer)])\n",
        "            messageBuffer.clear()\n",
        "            date, time, author, message = getDataPointios(line)\n",
        "            messageBuffer.append(message)\n",
        "          else:\n",
        "            line= (line.encode('ascii', 'ignore')).decode(\"utf-8\")\n",
        "            if startsWithDateAndTimeios(line):\n",
        "              if len(messageBuffer) > 0:\n",
        "                parsedData.append([date, time, author, ' '.join(messageBuffer)])\n",
        "              messageBuffer.clear()\n",
        "              date, time, author, message = getDataPointios(line)\n",
        "              messageBuffer.append(message)\n",
        "            else:\n",
        "              messageBuffer.append(line)\n",
        "        else:\n",
        "          line = line.strip()\n",
        "          if startsWithDateAndTimeAndroid(line):\n",
        "            if len(messageBuffer) > 0:\n",
        "              parsedData.append([date, time, author, ' '.join(messageBuffer)])\n",
        "            messageBuffer.clear()\n",
        "            date, time, author, message = getDataPointAndroid(line)\n",
        "            messageBuffer.append(message)\n",
        "          else:\n",
        "            messageBuffer.append(line)"
      ],
      "execution_count": null,
      "outputs": []
    },
    {
      "cell_type": "code",
      "metadata": {
        "id": "BUZmAkulx7Zw",
        "colab_type": "code",
        "colab": {}
      },
      "source": [
        "if device =='android':\n",
        "        df = pd.DataFrame(parsedData, columns=['Date', 'Time', 'Author', 'Message'])\n",
        "        df[\"Date\"] = pd.to_datetime(df[\"Date\"])\n",
        "        df = df.dropna()\n",
        "        df[\"emoji\"] = df[\"Message\"].apply(split_count)\n",
        "        URLPATTERN = r'(https?://\\S+)'\n",
        "        df['urlcount'] = df.Message.apply(lambda x: re.findall(URLPATTERN, x)).str.len()\n",
        "else:\n",
        "        df = pd.DataFrame(parsedData, columns=['Date', 'Time', 'Author', 'Message'])\n",
        "        df = df.dropna()\n",
        "        df[\"Date\"] = df[\"Date\"].apply(dateconv)\n",
        "        df[\"Date\"] = pd.to_datetime(df[\"Date\"],format='%Y-%m-%d')\n",
        "        df[\"emoji\"] = df[\"Message\"].apply(split_count)\n",
        "        URLPATTERN = r'(https?://\\S+)'\n",
        "        df['urlcount'] = df.Message.apply(lambda x: re.findall(URLPATTERN, x)).str.len()"
      ],
      "execution_count": null,
      "outputs": []
    },
    {
      "cell_type": "markdown",
      "metadata": {
        "id": "RLOtR3Zt14wj",
        "colab_type": "text"
      },
      "source": [
        "## Number of messages"
      ]
    },
    {
      "cell_type": "code",
      "metadata": {
        "id": "cvn1AexAyOad",
        "colab_type": "code",
        "colab": {}
      },
      "source": [
        "number_of_messages = df.groupby('Author')['Message'].count()\n",
        "number_of_messages"
      ],
      "execution_count": null,
      "outputs": []
    },
    {
      "cell_type": "markdown",
      "metadata": {
        "id": "oYRb3TDC5wzM",
        "colab_type": "text"
      },
      "source": [
        "## Number of words"
      ]
    },
    {
      "cell_type": "markdown",
      "metadata": {
        "id": "0a2zD9Em6DhE",
        "colab_type": "text"
      },
      "source": [
        "It includes emojis as words"
      ]
    },
    {
      "cell_type": "code",
      "metadata": {
        "id": "Hcr8KC2gynRu",
        "colab_type": "code",
        "colab": {}
      },
      "source": [
        "df_no_media = df[~df['Message'].str.contains('<Media omitted>')]\n",
        "\n",
        "df_no_media['MessageLength'] = df_no_media['Message'].str.split().str.len()"
      ],
      "execution_count": null,
      "outputs": []
    },
    {
      "cell_type": "code",
      "metadata": {
        "id": "z833KAbr2i7w",
        "colab_type": "code",
        "colab": {}
      },
      "source": [
        "number_of_words = df_no_media.groupby('Author')['MessageLength'].sum()\n",
        "number_of_words"
      ],
      "execution_count": null,
      "outputs": []
    },
    {
      "cell_type": "markdown",
      "metadata": {
        "id": "YytxoB-U6HeD",
        "colab_type": "text"
      },
      "source": [
        "## Average words per message"
      ]
    },
    {
      "cell_type": "code",
      "metadata": {
        "id": "5VqXFOLJ4EdB",
        "colab_type": "code",
        "colab": {}
      },
      "source": [
        "number_of_words / df_no_media.groupby('Author')['Message'].count()"
      ],
      "execution_count": null,
      "outputs": []
    },
    {
      "cell_type": "code",
      "metadata": {
        "id": "u3LMohXW6WF_",
        "colab_type": "code",
        "colab": {}
      },
      "source": [
        "df"
      ],
      "execution_count": null,
      "outputs": []
    },
    {
      "cell_type": "code",
      "metadata": {
        "id": "OK9MhYDq7tS3",
        "colab_type": "code",
        "colab": {}
      },
      "source": [
        ""
      ],
      "execution_count": null,
      "outputs": []
    }
  ]
}